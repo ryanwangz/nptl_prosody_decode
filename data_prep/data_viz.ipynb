{
 "cells": [
  {
   "cell_type": "code",
   "execution_count": null,
   "metadata": {
    "collapsed": true
   },
   "outputs": [],
   "source": [
    "print(\"test\")"
   ]
  },
  {
   "cell_type": "code",
   "execution_count": null,
   "metadata": {
    "collapsed": true
   },
   "outputs": [],
   "source": [
    "import matplotlib.pyplot as plt\n",
    "\n",
    "# 1. Basic visualization of neural activity over time and channels\n",
    "def plot_neural_data(neural_data, title=\"Neural Data\", n_timepoints=1000):\n",
    "    \"\"\"\n",
    "    Plot first n_timepoints of neural data\n",
    "    neural_data shape: (time, channels)\n",
    "    \"\"\"\n",
    "    plt.figure(figsize=(12, 6))\n",
    "    plt.imshow(neural_data[:n_timepoints].T, aspect='auto', cmap='viridis')\n",
    "    plt.colorbar(label='Activity')\n",
    "    plt.xlabel('Time (bins)')\n",
    "    plt.ylabel('Channel')\n",
    "    plt.title(title)\n",
    "    plt.show()\n",
    "\n",
    "# 2. Plot neural data with corresponding labels\n",
    "def plot_neural_with_labels(neural_data, labels, n_timepoints=1000):\n",
    "    \"\"\"\n",
    "    Plot neural data and corresponding labels\n",
    "    \"\"\"\n",
    "    fig, (ax1, ax2) = plt.subplots(2, 1, figsize=(12, 8), gridspec_kw={'height_ratios': [3, 1]})\n",
    "    \n",
    "    # Neural data\n",
    "    im = ax1.imshow(neural_data[:n_timepoints].T, aspect='auto', cmap='viridis')\n",
    "    ax1.set_title('Neural Activity')\n",
    "    ax1.set_ylabel('Channel')\n",
    "    plt.colorbar(im, ax=ax1, label='Activity')\n",
    "    \n",
    "    # Labels\n",
    "    ax2.plot(labels[:n_timepoints], 'r', label='Silence/Speech')\n",
    "    ax2.set_xlabel('Time (bins)')\n",
    "    ax2.set_ylabel('Label')\n",
    "    ax2.set_ylim(-0.1, 1.1)\n",
    "    ax2.legend()\n",
    "    \n",
    "    plt.tight_layout()\n",
    "    plt.show()\n",
    "\n",
    "# 3. Plot average activity across channels\n",
    "def plot_channel_average(neural_data, labels, n_timepoints=1000):\n",
    "    \"\"\"\n",
    "    Plot mean neural activity with labels\n",
    "    \"\"\"\n",
    "    mean_activity = neural_data[:n_timepoints].mean(axis=1)\n",
    "    \n",
    "    fig, ax1 = plt.subplots(figsize=(12, 4))\n",
    "    \n",
    "    ax1.plot(mean_activity, 'b', label='Mean Activity')\n",
    "    ax1.set_ylabel('Mean Activity', color='b')\n",
    "    ax1.tick_params(axis='y', labelcolor='b')\n",
    "    \n",
    "    ax2 = ax1.twinx()\n",
    "    ax2.plot(labels[:n_timepoints], 'r', label='Labels', alpha=0.5)\n",
    "    ax2.set_ylabel('Label', color='r')\n",
    "    ax2.tick_params(axis='y', labelcolor='r')\n",
    "    \n",
    "    plt.title('Mean Neural Activity vs Labels')\n",
    "    plt.show()\n",
    "\n",
    "    \n",
    "neural_data = np.load(\"/home/groups/henderj/rzwang/processed_data/neural_data.npy\")\n",
    "labels = np.load(\"/home/groups/henderj/rzwang/processed_data/labels.npy\")\n",
    "# Basic neural data visualization\n",
    "plot_neural_data(neural_data)\n",
    "\n",
    "# Neural data with labels\n",
    "plot_neural_with_labels(neural_data, labels)\n",
    "\n",
    "# Average activity\n",
    "plot_channel_average(neural_data, labels)"
   ]
  }
 ],
 "metadata": {
  "kernelspec": {
   "display_name": "Python 2",
   "language": "python",
   "name": "python2"
  },
  "language_info": {
   "codemirror_mode": {
    "name": "ipython",
    "version": 2
   },
   "file_extension": ".py",
   "mimetype": "text/x-python",
   "name": "python",
   "nbconvert_exporter": "python",
   "pygments_lexer": "ipython2",
   "version": "2.7.13"
  }
 },
 "nbformat": 4,
 "nbformat_minor": 2
}
